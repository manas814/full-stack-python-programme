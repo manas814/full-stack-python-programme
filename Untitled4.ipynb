{
 "cells": [
  {
   "cell_type": "code",
   "execution_count": 1,
   "id": "0fc7f922-a04c-4651-9230-2364337822d1",
   "metadata": {},
   "outputs": [
    {
     "name": "stdout",
     "output_type": "stream",
     "text": [
      "Day-2 practice 1\n"
     ]
    }
   ],
   "source": [
    "print(\"Day-2 practice 1\")"
   ]
  },
  {
   "cell_type": "code",
   "execution_count": 3,
   "id": "016226b7-144d-42a9-99d2-9f135a93d3c2",
   "metadata": {},
   "outputs": [
    {
     "name": "stdout",
     "output_type": "stream",
     "text": [
      "[' Sanskrit', 'English', ' Financial Management', 'Basic quality management', 'business analysis', ' Human resource management']\n"
     ]
    }
   ],
   "source": [
    "subjects=[\" Sanskrit\",\"English\",\" Financial Management\",\"Basic quality management\",\"business analysis\"]\n",
    "subjects.append(\" Human resource management\")\n",
    "print(subjects)"
   ]
  },
  {
   "cell_type": "code",
   "execution_count": 4,
   "id": "8ef193e8-20eb-475d-b7f6-be3ba2e7d45e",
   "metadata": {},
   "outputs": [
    {
     "name": "stdout",
     "output_type": "stream",
     "text": [
      " Cricket\n"
     ]
    }
   ],
   "source": [
    "sports=(\" Cricket\",\" football\",\" Badminton\")\n",
    "print(sports[0])"
   ]
  },
  {
   "cell_type": "code",
   "execution_count": 6,
   "id": "7151e087-3445-491e-8881-8158ddb6bbe3",
   "metadata": {},
   "outputs": [
    {
     "name": "stdout",
     "output_type": "stream",
     "text": [
      "original roll numbers list: [4026, 4025, 4049, 4028, 4026, 4025]\n"
     ]
    }
   ],
   "source": [
    "Roll_numbers_with_duplicates=[4026,4025,4049,4028,4026,4025]\n",
    "print(\"original roll numbers list:\",Roll_numbers_with_duplicates)"
   ]
  },
  {
   "cell_type": "code",
   "execution_count": 11,
   "id": "8fb98688-262a-4448-bfb5-179164f8bbb1",
   "metadata": {},
   "outputs": [
    {
     "name": "stdout",
     "output_type": "stream",
     "text": [
      "set with duplicates removed: {4025, 4026, 4049, 4028}\n"
     ]
    }
   ],
   "source": [
    "unique_roll_numbers=set(Roll_numbers_with_duplicates)\n",
    "print(\"set with duplicates removed:\",unique_roll_numbers)"
   ]
  },
  {
   "cell_type": "code",
   "execution_count": 14,
   "id": "aff4c03d-1426-474a-9606-2cd02a757c76",
   "metadata": {},
   "outputs": [
    {
     "name": "stdout",
     "output_type": "stream",
     "text": [
      "original rool numbers list: [4026, 4025, 4049, 4028, 4026, 4025]\n",
      "set with duplicates removed: {4025, 4026, 4049, 4028}\n"
     ]
    }
   ],
   "source": [
    "print(\"original rool numbers list:\",Roll_numbers_with_duplicates)\n",
    "print(\"set with duplicates removed:\",unique_roll_numbers)"
   ]
  },
  {
   "cell_type": "code",
   "execution_count": 17,
   "id": "f9d8f42f-fe8a-410e-9859-bd1506e563df",
   "metadata": {},
   "outputs": [
    {
     "name": "stdout",
     "output_type": "stream",
     "text": [
      "values: ['manas', 'Mahindra University', 'BBA']\n"
     ]
    }
   ],
   "source": [
    "student={\n",
    "    \"name\":\"manas\",\n",
    "    \"college\":\"Mahindra University\",\n",
    "    \"branch\":\"BBA\"\n",
    "}\n",
    "print(\"values:\",list(student.values()))"
   ]
  },
  {
   "cell_type": "code",
   "execution_count": 21,
   "id": "4619b8c7-a7a7-4504-bf0d-650b1b4dc5a1",
   "metadata": {},
   "outputs": [
    {
     "name": "stdout",
     "output_type": "stream",
     "text": [
      "updated dictionary: {'name': 'manas', 'college': 'Mahindra University', 'branch': 'BBA', 'year': 2025}\n"
     ]
    }
   ],
   "source": [
    "student[\"year\"]=2025\n",
    "print(\"updated dictionary:\",student)"
   ]
  },
  {
   "cell_type": "code",
   "execution_count": 38,
   "id": "9f5c77ca-6209-4566-9095-1b007c47d981",
   "metadata": {},
   "outputs": [
    {
     "name": "stdout",
     "output_type": "stream",
     "text": [
      "updated dictionary: {'name': 'manas', 'college': 'Mahindra University', 'branch': 'BBA', 'year': 2025, 'attendance_percent': 79}\n"
     ]
    }
   ],
   "source": [
    "student[\"attendance_percent\"]=79\n",
    "print(\"updated dictionary:\",student)"
   ]
  },
  {
   "cell_type": "code",
   "execution_count": 39,
   "id": "31f37f61-7a96-4a00-a065-10f36a5fd525",
   "metadata": {},
   "outputs": [
    {
     "name": "stdout",
     "output_type": "stream",
     "text": [
      "eligible\n"
     ]
    }
   ],
   "source": [
    "if student[\"attendance_percent\"]>=75:\n",
    "      print(\"eligible\")\n",
    "else:\n",
    "      print(\"Not eligible\")"
   ]
  },
  {
   "cell_type": "code",
   "execution_count": null,
   "id": "2481a19a-1a53-45ec-a0d3-2c0b413d631b",
   "metadata": {},
   "outputs": [],
   "source": []
  }
 ],
 "metadata": {
  "kernelspec": {
   "display_name": "Python 3 (ipykernel)",
   "language": "python",
   "name": "python3"
  },
  "language_info": {
   "codemirror_mode": {
    "name": "ipython",
    "version": 3
   },
   "file_extension": ".py",
   "mimetype": "text/x-python",
   "name": "python",
   "nbconvert_exporter": "python",
   "pygments_lexer": "ipython3",
   "version": "3.13.5"
  }
 },
 "nbformat": 4,
 "nbformat_minor": 5
}

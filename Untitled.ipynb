{
 "cells": [
  {
   "cell_type": "code",
   "execution_count": 1,
   "id": "0f305038-25e9-44cb-bf9e-0a05b19ae39c",
   "metadata": {},
   "outputs": [
    {
     "name": "stdout",
     "output_type": "stream",
     "text": [
      "Hello,python full stack students!\n"
     ]
    }
   ],
   "source": [
    "print (\"Hello,python full stack students!\")"
   ]
  },
  {
   "cell_type": "code",
   "execution_count": 3,
   "id": "cfac2923-87b9-4841-94ee-4b8815d28862",
   "metadata": {},
   "outputs": [
    {
     "name": "stdout",
     "output_type": "stream",
     "text": [
      "hi how are you!\n"
     ]
    }
   ],
   "source": [
    "print(\"hi how are you!\")"
   ]
  },
  {
   "cell_type": "code",
   "execution_count": 4,
   "id": "238ed93d-c6f0-45ce-927e-e4feaafbbac2",
   "metadata": {},
   "outputs": [
    {
     "name": "stdout",
     "output_type": "stream",
     "text": [
      "did you eat!\n"
     ]
    }
   ],
   "source": [
    "print(\"did you eat!\")"
   ]
  },
  {
   "cell_type": "code",
   "execution_count": 11,
   "id": "a47d0599-8ae4-4d47-bafe-9fc923210aa9",
   "metadata": {},
   "outputs": [
    {
     "name": "stdout",
     "output_type": "stream",
     "text": [
      "manas 22 8.5 True\n"
     ]
    }
   ],
   "source": [
    "name=\"manas\"\n",
    "age=22\n",
    "gpa=8.5\n",
    "is_studet=True\n",
    "print(name,age,gpa,is_studet)"
   ]
  },
  {
   "cell_type": "code",
   "execution_count": 16,
   "id": "23101b32-596c-4c19-b83c-3c787a7b24d8",
   "metadata": {},
   "outputs": [
    {
     "name": "stdout",
     "output_type": "stream",
     "text": [
      "sai ram 23 6.5 true\n"
     ]
    }
   ],
   "source": [
    "name=\"sai ram\"\n",
    "age=23\n",
    "gpa=6.5\n",
    "is_student=\"true\"\n",
    "print(name,age,gpa,is_student)"
   ]
  },
  {
   "cell_type": "code",
   "execution_count": 20,
   "id": "20820c31-19ff-4ff3-b05d-e46d7ed8aa5e",
   "metadata": {},
   "outputs": [
    {
     "name": "stdout",
     "output_type": "stream",
     "text": [
      "<class 'int'> <class 'float'> <class 'str'> <class 'bool'>\n"
     ]
    }
   ],
   "source": [
    "x=10\n",
    "y=3.14\n",
    "z=\"python\"\n",
    "flag=False\n",
    "print(type(x),type(y),type(z),type(flag))"
   ]
  },
  {
   "cell_type": "code",
   "execution_count": 22,
   "id": "916ba9a6-00c7-4b0f-bb19-d59a40f233ce",
   "metadata": {},
   "outputs": [
    {
     "name": "stdout",
     "output_type": "stream",
     "text": [
      "<class 'int'> <class 'float'> <class 'str'> <class 'bool'>\n"
     ]
    }
   ],
   "source": [
    "x=15\n",
    "y=4.15\n",
    "z=\"topper\"\n",
    "flag=False\n",
    "print(type(x),type(y),type(z),type(flag))"
   ]
  },
  {
   "cell_type": "code",
   "execution_count": 23,
   "id": "f538c74f-1803-4500-81bd-fa04bad1d944",
   "metadata": {},
   "outputs": [
    {
     "name": "stdout",
     "output_type": "stream",
     "text": [
      "shiny avinash_collage_commarse python\n"
     ]
    }
   ],
   "source": [
    "name=\"shiny\"\n",
    "college=\"avinash_collage_commarse\"\n",
    "favorite_language=\"python\"\n",
    "print(name,college,favorite_language)\n"
   ]
  },
  {
   "cell_type": "code",
   "execution_count": 1,
   "id": "640dce62-1e69-43f4-a7c5-12e3350b4e48",
   "metadata": {},
   "outputs": [
    {
     "name": "stdout",
     "output_type": "stream",
     "text": [
      "19\n"
     ]
    }
   ],
   "source": [
    "year1=2006\n",
    "year2=2025\n",
    "age=year2-year1\n",
    "print(age)"
   ]
  },
  {
   "cell_type": "code",
   "execution_count": 2,
   "id": "6df6e437-5fb6-4949-885a-46ad827ff03f",
   "metadata": {},
   "outputs": [
    {
     "name": "stdout",
     "output_type": "stream",
     "text": [
      "coolie 2025 9.5\n"
     ]
    }
   ],
   "source": [
    "movie=\"coolie\"\n",
    "release=2025\n",
    "rating=9.5\n",
    "print(movie,release,rating)"
   ]
  },
  {
   "cell_type": "code",
   "execution_count": 3,
   "id": "f8d4445d-a61d-469b-8c7c-f29d609abbe5",
   "metadata": {},
   "outputs": [
    {
     "name": "stdout",
     "output_type": "stream",
     "text": [
      "addition: 37\n",
      "division: 0.9473684210526315\n",
      "floor_division: 0\n",
      "power: 708235345355337676357632\n"
     ]
    }
   ],
   "source": [
    "a=18\n",
    "b=19\n",
    "print(\"addition:\",a+b)\n",
    "print(\"division:\",a/b)\n",
    "print(\"floor_division:\",a//b)\n",
    "print(\"power:\",a**b)"
   ]
  },
  {
   "cell_type": "code",
   "execution_count": 10,
   "id": "959656e0-7c6f-4901-a99f-eb8573c451dd",
   "metadata": {},
   "outputs": [
    {
     "name": "stdout",
     "output_type": "stream",
     "text": [
      "False\n",
      "True\n",
      "True\n"
     ]
    }
   ],
   "source": [
    "a=20\n",
    "b=30\n",
    "print(a>b)#False\n",
    "print(a==20) #true\n",
    "print((a<b)and(b==30))#true"
   ]
  },
  {
   "cell_type": "code",
   "execution_count": 1,
   "id": "77f25670-4d51-40df-b987-74a68956b903",
   "metadata": {},
   "outputs": [
    {
     "name": "stdout",
     "output_type": "stream",
     "text": [
      "Day 2\n"
     ]
    }
   ],
   "source": [
    "print(\"Day 2\")"
   ]
  },
  {
   "cell_type": "code",
   "execution_count": 5,
   "id": "4878d3be-b806-4261-96ba-039fc4eecb4f",
   "metadata": {},
   "outputs": [
    {
     "name": "stdout",
     "output_type": "stream",
     "text": [
      "['apple', 'banana', 'mango', 'orange']\n"
     ]
    }
   ],
   "source": [
    "fruits=[\"apple\",\"banana\",\"mango\"]\n",
    "fruits.append(\"orange\") \n",
    "print(fruits)"
   ]
  },
  {
   "cell_type": "code",
   "execution_count": 7,
   "id": "eac71858-6ee9-4f24-8d16-ead8118492c6",
   "metadata": {},
   "outputs": [
    {
     "name": "stdout",
     "output_type": "stream",
     "text": [
      "banana\n"
     ]
    }
   ],
   "source": [
    "print(fruits[1])"
   ]
  },
  {
   "cell_type": "code",
   "execution_count": 11,
   "id": "8b940b8a-3ade-4bbd-9d94-cc8ad3517eab",
   "metadata": {},
   "outputs": [
    {
     "name": "stdout",
     "output_type": "stream",
     "text": [
      "['nani', 'sai']\n"
     ]
    }
   ],
   "source": [
    "names=[\"manas\",\"nani\",\"sai\"]\n",
    "names.remove(\"manas\")\n",
    "print(names)"
   ]
  },
  {
   "cell_type": "code",
   "execution_count": 16,
   "id": "19c05983-adb3-452b-8bc5-d0883c45bdfe",
   "metadata": {},
   "outputs": [
    {
     "name": "stdout",
     "output_type": "stream",
     "text": [
      "nani\n",
      "sai\n"
     ]
    }
   ],
   "source": [
    "print(names[0])\n",
    "print(names[1])"
   ]
  },
  {
   "cell_type": "code",
   "execution_count": 19,
   "id": "90ffc59d-5da7-48e5-9162-ca0f144751ef",
   "metadata": {},
   "outputs": [
    {
     "name": "stdout",
     "output_type": "stream",
     "text": [
      "['OG', 'one', 'rifle club']\n"
     ]
    }
   ],
   "source": [
    "movie=[\"OG\",\"rifle club\",\"one\"]\n",
    "movie.sort()\n",
    "print(movie)"
   ]
  },
  {
   "cell_type": "code",
   "execution_count": 20,
   "id": "e1c664a6-bcf3-4bb0-9c34-8e589808d278",
   "metadata": {},
   "outputs": [
    {
     "name": "stdout",
     "output_type": "stream",
     "text": [
      "red\n"
     ]
    }
   ],
   "source": [
    "colors=(\"red\",\"green\",\"blue\")\n",
    "print(colors[0])"
   ]
  },
  {
   "cell_type": "code",
   "execution_count": 26,
   "id": "fdddd9bf-90b4-49d5-9691-e7874ecd9942",
   "metadata": {},
   "outputs": [],
   "source": [
    "#colors[1]=\"yellow\""
   ]
  },
  {
   "cell_type": "code",
   "execution_count": 28,
   "id": "6f022dc3-3583-4a69-a4d5-7ec5878e7073",
   "metadata": {},
   "outputs": [
    {
     "name": "stdout",
     "output_type": "stream",
     "text": [
      "sets\n"
     ]
    }
   ],
   "source": [
    "print(\"sets\")"
   ]
  },
  {
   "cell_type": "code",
   "execution_count": 33,
   "id": "dca9138e-4570-4018-8ee6-b7baabac0880",
   "metadata": {},
   "outputs": [
    {
     "name": "stdout",
     "output_type": "stream",
     "text": [
      "{1, 2, 3, 4, 5}\n"
     ]
    }
   ],
   "source": [
    "number={1,2,3,3,4}\n",
    "number.add(5)\n",
    "print(number)"
   ]
  },
  {
   "cell_type": "code",
   "execution_count": 39,
   "id": "5307a967-1b0e-4707-80df-1816a50e6ead",
   "metadata": {},
   "outputs": [
    {
     "name": "stdout",
     "output_type": "stream",
     "text": [
      "{'name': 'manas', 'age': 19, 'course': 'python full stack'}\n"
     ]
    }
   ],
   "source": [
    "student={\n",
    "    \"name\":\"manas\",\n",
    "    \"age\":19,\n",
    "    \"course\":\"python full stack\"\n",
    "} \n",
    "print(student)"
   ]
  },
  {
   "cell_type": "code",
   "execution_count": 40,
   "id": "b7e8d3e9-e0b1-452b-b168-eacf808bea0b",
   "metadata": {},
   "outputs": [
    {
     "name": "stdout",
     "output_type": "stream",
     "text": [
      "{'name': 'manas', 'age': 20, 'course': 'python full stack'}\n"
     ]
    }
   ],
   "source": [
    "student[\"age\"]=20\n",
    "print(student)"
   ]
  },
  {
   "cell_type": "code",
   "execution_count": 43,
   "id": "6138fa11-8786-4584-804d-99947c0334df",
   "metadata": {},
   "outputs": [
    {
     "name": "stdout",
     "output_type": "stream",
     "text": [
      "dict_keys(['name', 'age', 'course', 'college'])\n",
      "dict_values(['manas', 20, 'python full stack', 'avinash degree college'])\n"
     ]
    }
   ],
   "source": [
    "student[\"college\"]=\"avinash degree college\"\n",
    "print(student.keys())\n",
    "print(student.values())"
   ]
  },
  {
   "cell_type": "code",
   "execution_count": 42,
   "id": "2f6a718b-b614-4e22-ad49-b06b1ba40d59",
   "metadata": {},
   "outputs": [
    {
     "name": "stdout",
     "output_type": "stream",
     "text": [
      "dict_values(['manas', 20, 'python full stack', 'avinash degree college'])\n"
     ]
    }
   ],
   "source": [
    "print(student.values())"
   ]
  },
  {
   "cell_type": "code",
   "execution_count": 45,
   "id": "dbde0bf0-9ccc-49f3-9e00-05d6b08469c6",
   "metadata": {},
   "outputs": [
    {
     "name": "stdout",
     "output_type": "stream",
     "text": [
      "conditional statements\n"
     ]
    }
   ],
   "source": [
    "print(\"conditional statements\")"
   ]
  },
  {
   "cell_type": "code",
   "execution_count": 1,
   "id": "2471a900-73a4-490a-b826-5f052ecbe097",
   "metadata": {},
   "outputs": [
    {
     "name": "stdout",
     "output_type": "stream",
     "text": [
      "grade:C\n"
     ]
    }
   ],
   "source": [
    "marks=50\n",
    "if marks>=90:\n",
    "    print(\"grade:A\")\n",
    "elif marks>=75:\n",
    "    print(\"grade:B\")\n",
    "elif marks>=50:\n",
    "    print(\"grade:C\")\n",
    "else:\n",
    "    print(\"grade:fail\")"
   ]
  },
  {
   "cell_type": "code",
   "execution_count": 2,
   "id": "41780d13-2f5b-43fe-940e-817ef02d7a85",
   "metadata": {},
   "outputs": [
    {
     "name": "stdout",
     "output_type": "stream",
     "text": [
      "number: 1\n",
      "number: 2\n",
      "number: 3\n",
      "number: 4\n",
      "number: 5\n",
      "number: 6\n",
      "number: 7\n",
      "number: 8\n",
      "number: 9\n"
     ]
    }
   ],
   "source": [
    "for i in range(1,10):\n",
    "    print(\"number:\",i)"
   ]
  },
  {
   "cell_type": "code",
   "execution_count": 3,
   "id": "c552a5a1-a9d9-4e9e-96c6-68d153a13c42",
   "metadata": {},
   "outputs": [
    {
     "name": "stdout",
     "output_type": "stream",
     "text": [
      "count: 1\n",
      "count: 2\n",
      "count: 3\n",
      "count: 4\n",
      "count: 5\n"
     ]
    }
   ],
   "source": [
    "count=1\n",
    "while count<=5:\n",
    "    print(\"count:\",count)\n",
    "    count+=1"
   ]
  },
  {
   "cell_type": "code",
   "execution_count": 5,
   "id": "e0618d82-bf23-42dc-9815-d7d39df51ed7",
   "metadata": {},
   "outputs": [
    {
     "name": "stdout",
     "output_type": "stream",
     "text": [
      "break&coutinue\n"
     ]
    }
   ],
   "source": [
    "print(\"break&coutinue\")"
   ]
  },
  {
   "cell_type": "code",
   "execution_count": 10,
   "id": "c0dfdaa6-d653-4238-884b-23ed2596657e",
   "metadata": {},
   "outputs": [
    {
     "name": "stdout",
     "output_type": "stream",
     "text": [
      "1\n",
      "2\n",
      "3\n",
      "4\n",
      "5\n"
     ]
    }
   ],
   "source": [
    "for i in range(1,10):\n",
    "    if i==6:break\n",
    "    print(i)"
   ]
  },
  {
   "cell_type": "code",
   "execution_count": null,
   "id": "11fc81f8-c2d1-4eac-89e9-e23a48332e7b",
   "metadata": {},
   "outputs": [],
   "source": []
  }
 ],
 "metadata": {
  "kernelspec": {
   "display_name": "Python [conda env:base] *",
   "language": "python",
   "name": "conda-base-py"
  },
  "language_info": {
   "codemirror_mode": {
    "name": "ipython",
    "version": 3
   },
   "file_extension": ".py",
   "mimetype": "text/x-python",
   "name": "python",
   "nbconvert_exporter": "python",
   "pygments_lexer": "ipython3",
   "version": "3.13.5"
  }
 },
 "nbformat": 4,
 "nbformat_minor": 5
}
